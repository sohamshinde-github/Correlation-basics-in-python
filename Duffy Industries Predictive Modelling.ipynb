{
 "cells": [
  {
   "cell_type": "code",
   "execution_count": 19,
   "metadata": {},
   "outputs": [],
   "source": [
    "import matplotlib.pyplot as plt\n",
    "import pandas as pd\n",
    "import numpy as np\n",
    "%matplotlib inline  "
   ]
  },
  {
   "cell_type": "code",
   "execution_count": null,
   "metadata": {},
   "outputs": [],
   "source": [
    "duffy_data=pd.read_csv('duffy_data.csv')"
   ]
  },
  {
   "cell_type": "code",
   "execution_count": null,
   "metadata": {},
   "outputs": [],
   "source": [
    "duffy_data.head()"
   ]
  },
  {
   "cell_type": "code",
   "execution_count": 22,
   "metadata": {},
   "outputs": [
    {
     "data": {
      "text/html": [
       "<div>\n",
       "<style scoped>\n",
       "    .dataframe tbody tr th:only-of-type {\n",
       "        vertical-align: middle;\n",
       "    }\n",
       "\n",
       "    .dataframe tbody tr th {\n",
       "        vertical-align: top;\n",
       "    }\n",
       "\n",
       "    .dataframe thead th {\n",
       "        text-align: right;\n",
       "    }\n",
       "</style>\n",
       "<table border=\"1\" class=\"dataframe\">\n",
       "  <thead>\n",
       "    <tr style=\"text-align: right;\">\n",
       "      <th></th>\n",
       "      <th>ID</th>\n",
       "      <th>Cost per load</th>\n",
       "      <th>Dist</th>\n",
       "      <th>Lead time(days)</th>\n",
       "      <th>Trailer length(feet)</th>\n",
       "      <th>Wgt(Lb)</th>\n",
       "      <th>Unnamed: 7</th>\n",
       "      <th>Unnamed: 8</th>\n",
       "      <th>Unnamed: 9</th>\n",
       "    </tr>\n",
       "  </thead>\n",
       "  <tbody>\n",
       "    <tr>\n",
       "      <th>count</th>\n",
       "      <td>100.000000</td>\n",
       "      <td>100.000000</td>\n",
       "      <td>100.00000</td>\n",
       "      <td>100.00000</td>\n",
       "      <td>100.000000</td>\n",
       "      <td>100.000000</td>\n",
       "      <td>0.0</td>\n",
       "      <td>0.0</td>\n",
       "      <td>0.0</td>\n",
       "    </tr>\n",
       "    <tr>\n",
       "      <th>mean</th>\n",
       "      <td>50.500000</td>\n",
       "      <td>3131.600000</td>\n",
       "      <td>1207.18000</td>\n",
       "      <td>5.87000</td>\n",
       "      <td>51.250000</td>\n",
       "      <td>26708.180000</td>\n",
       "      <td>NaN</td>\n",
       "      <td>NaN</td>\n",
       "      <td>NaN</td>\n",
       "    </tr>\n",
       "    <tr>\n",
       "      <th>std</th>\n",
       "      <td>29.011492</td>\n",
       "      <td>655.358519</td>\n",
       "      <td>386.84242</td>\n",
       "      <td>3.96106</td>\n",
       "      <td>2.396862</td>\n",
       "      <td>7069.840196</td>\n",
       "      <td>NaN</td>\n",
       "      <td>NaN</td>\n",
       "      <td>NaN</td>\n",
       "    </tr>\n",
       "    <tr>\n",
       "      <th>min</th>\n",
       "      <td>1.000000</td>\n",
       "      <td>1660.000000</td>\n",
       "      <td>502.00000</td>\n",
       "      <td>0.00000</td>\n",
       "      <td>48.000000</td>\n",
       "      <td>15100.000000</td>\n",
       "      <td>NaN</td>\n",
       "      <td>NaN</td>\n",
       "      <td>NaN</td>\n",
       "    </tr>\n",
       "    <tr>\n",
       "      <th>25%</th>\n",
       "      <td>25.750000</td>\n",
       "      <td>2631.750000</td>\n",
       "      <td>904.00000</td>\n",
       "      <td>2.75000</td>\n",
       "      <td>48.000000</td>\n",
       "      <td>21220.750000</td>\n",
       "      <td>NaN</td>\n",
       "      <td>NaN</td>\n",
       "      <td>NaN</td>\n",
       "    </tr>\n",
       "    <tr>\n",
       "      <th>50%</th>\n",
       "      <td>50.500000</td>\n",
       "      <td>3166.000000</td>\n",
       "      <td>1273.00000</td>\n",
       "      <td>6.00000</td>\n",
       "      <td>53.000000</td>\n",
       "      <td>26513.500000</td>\n",
       "      <td>NaN</td>\n",
       "      <td>NaN</td>\n",
       "      <td>NaN</td>\n",
       "    </tr>\n",
       "    <tr>\n",
       "      <th>75%</th>\n",
       "      <td>75.250000</td>\n",
       "      <td>3701.250000</td>\n",
       "      <td>1538.25000</td>\n",
       "      <td>9.00000</td>\n",
       "      <td>53.000000</td>\n",
       "      <td>32276.000000</td>\n",
       "      <td>NaN</td>\n",
       "      <td>NaN</td>\n",
       "      <td>NaN</td>\n",
       "    </tr>\n",
       "    <tr>\n",
       "      <th>max</th>\n",
       "      <td>100.000000</td>\n",
       "      <td>4301.000000</td>\n",
       "      <td>1793.00000</td>\n",
       "      <td>13.00000</td>\n",
       "      <td>53.000000</td>\n",
       "      <td>39931.000000</td>\n",
       "      <td>NaN</td>\n",
       "      <td>NaN</td>\n",
       "      <td>NaN</td>\n",
       "    </tr>\n",
       "  </tbody>\n",
       "</table>\n",
       "</div>"
      ],
      "text/plain": [
       "               ID  Cost per load        Dist  Lead time(days)  \\\n",
       "count  100.000000     100.000000   100.00000        100.00000   \n",
       "mean    50.500000    3131.600000  1207.18000          5.87000   \n",
       "std     29.011492     655.358519   386.84242          3.96106   \n",
       "min      1.000000    1660.000000   502.00000          0.00000   \n",
       "25%     25.750000    2631.750000   904.00000          2.75000   \n",
       "50%     50.500000    3166.000000  1273.00000          6.00000   \n",
       "75%     75.250000    3701.250000  1538.25000          9.00000   \n",
       "max    100.000000    4301.000000  1793.00000         13.00000   \n",
       "\n",
       "       Trailer length(feet)       Wgt(Lb)  Unnamed: 7  Unnamed: 8  Unnamed: 9  \n",
       "count            100.000000    100.000000         0.0         0.0         0.0  \n",
       "mean              51.250000  26708.180000         NaN         NaN         NaN  \n",
       "std                2.396862   7069.840196         NaN         NaN         NaN  \n",
       "min               48.000000  15100.000000         NaN         NaN         NaN  \n",
       "25%               48.000000  21220.750000         NaN         NaN         NaN  \n",
       "50%               53.000000  26513.500000         NaN         NaN         NaN  \n",
       "75%               53.000000  32276.000000         NaN         NaN         NaN  \n",
       "max               53.000000  39931.000000         NaN         NaN         NaN  "
      ]
     },
     "execution_count": 22,
     "metadata": {},
     "output_type": "execute_result"
    }
   ],
   "source": [
    "duffy_data.describe()"
   ]
  },
  {
   "cell_type": "code",
   "execution_count": 36,
   "metadata": {},
   "outputs": [],
   "source": [
    "Corr_CPL_and_Wgt = np.corrcoef(duffy_data['Cost per load'],duffy_data['Wgt(Lb)'])\n",
    "\n",
    "Corr_CPL_and_Dist = np.corrcoef(duffy_data['Cost per load'],duffy_data['Dist'])\n",
    "\n",
    "Corr_CPL_and_leadtime = np.corrcoef(duffy_data['Cost per load'],duffy_data['Lead time(days)'])\n",
    "\n",
    "Corr_CPL_and_leadtime = np.corrcoef(duffy_data['Cost per load'],duffy_data['Lead time(days)'])\n"
   ]
  },
  {
   "cell_type": "markdown",
   "metadata": {},
   "source": [
    "### Relation between Cost Per Load of truck and Weight (Lb)"
   ]
  },
  {
   "cell_type": "code",
   "execution_count": 29,
   "metadata": {},
   "outputs": [
    {
     "data": {
      "text/plain": [
       "array([[1.        , 0.90421307],\n",
       "       [0.90421307, 1.        ]])"
      ]
     },
     "execution_count": 29,
     "metadata": {},
     "output_type": "execute_result"
    }
   ],
   "source": [
    "Corr_CPL_and_Wgt"
   ]
  },
  {
   "cell_type": "markdown",
   "metadata": {},
   "source": [
    "### Relation between Cost Per Load of truck and Distance (miles)"
   ]
  },
  {
   "cell_type": "code",
   "execution_count": 33,
   "metadata": {},
   "outputs": [
    {
     "data": {
      "text/plain": [
       "array([[1.        , 0.90421307],\n",
       "       [0.90421307, 1.        ]])"
      ]
     },
     "execution_count": 33,
     "metadata": {},
     "output_type": "execute_result"
    }
   ],
   "source": [
    "Corr_CPL_and_Dist"
   ]
  },
  {
   "cell_type": "markdown",
   "metadata": {},
   "source": [
    "### Relation between Cost Per Load of truck and Leadtime (days)"
   ]
  },
  {
   "cell_type": "code",
   "execution_count": 34,
   "metadata": {},
   "outputs": [
    {
     "data": {
      "text/plain": [
       "array([[ 1.        , -0.09331368],\n",
       "       [-0.09331368,  1.        ]])"
      ]
     },
     "execution_count": 34,
     "metadata": {},
     "output_type": "execute_result"
    }
   ],
   "source": [
    "Corr_CPL_and_leadtime"
   ]
  }
 ],
 "metadata": {
  "kernelspec": {
   "display_name": "Python 2",
   "language": "python",
   "name": "python2"
  },
  "language_info": {
   "codemirror_mode": {
    "name": "ipython",
    "version": 2
   },
   "file_extension": ".py",
   "mimetype": "text/x-python",
   "name": "python",
   "nbconvert_exporter": "python",
   "pygments_lexer": "ipython2",
   "version": "2.7.16"
  }
 },
 "nbformat": 4,
 "nbformat_minor": 2
}
